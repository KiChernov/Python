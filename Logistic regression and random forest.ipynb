{
 "cells": [
  {
   "cell_type": "markdown",
   "metadata": {},
   "source": [
    "## Логистическая регрессия и случайный лес"
   ]
  },
  {
   "cell_type": "code",
   "execution_count": 20,
   "metadata": {},
   "outputs": [
    {
     "name": "stdout",
     "output_type": "stream",
     "text": [
      "Populating the interactive namespace from numpy and matplotlib\n"
     ]
    }
   ],
   "source": [
    "%pylab inline\n",
    "import pandas as pd\n",
    "import numpy as np\n",
    "%matplotlib inline\n",
    "import matplotlib.pyplot as plt"
   ]
  },
  {
   "cell_type": "markdown",
   "metadata": {},
   "source": [
    "Данные - https://www.kaggle.com/iabhishekofficial/mobile-price-classification"
   ]
  },
  {
   "cell_type": "code",
   "execution_count": 21,
   "metadata": {
    "collapsed": true
   },
   "outputs": [],
   "source": [
    "train = pd.read_csv('train.csv')"
   ]
  },
  {
   "cell_type": "markdown",
   "metadata": {},
   "source": [
    "Задача многоклассовой классификации — определение ценовой категории телефона. Для простоты перейдём к задаче бинарной классификации — пусть исходные классы 0 и 1 соответствуют классу 0 новой целевой переменной, а остальные классу 1."
   ]
  },
  {
   "cell_type": "code",
   "execution_count": 22,
   "metadata": {},
   "outputs": [
    {
     "data": {
      "text/html": [
       "<div>\n",
       "<style>\n",
       "    .dataframe thead tr:only-child th {\n",
       "        text-align: right;\n",
       "    }\n",
       "\n",
       "    .dataframe thead th {\n",
       "        text-align: left;\n",
       "    }\n",
       "\n",
       "    .dataframe tbody tr th {\n",
       "        vertical-align: top;\n",
       "    }\n",
       "</style>\n",
       "<table border=\"1\" class=\"dataframe\">\n",
       "  <thead>\n",
       "    <tr style=\"text-align: right;\">\n",
       "      <th></th>\n",
       "      <th>battery_power</th>\n",
       "      <th>blue</th>\n",
       "      <th>clock_speed</th>\n",
       "      <th>dual_sim</th>\n",
       "      <th>fc</th>\n",
       "      <th>four_g</th>\n",
       "      <th>int_memory</th>\n",
       "      <th>m_dep</th>\n",
       "      <th>mobile_wt</th>\n",
       "      <th>n_cores</th>\n",
       "      <th>pc</th>\n",
       "      <th>px_height</th>\n",
       "      <th>px_width</th>\n",
       "      <th>ram</th>\n",
       "      <th>sc_h</th>\n",
       "      <th>sc_w</th>\n",
       "      <th>talk_time</th>\n",
       "      <th>three_g</th>\n",
       "      <th>touch_screen</th>\n",
       "      <th>wifi</th>\n",
       "    </tr>\n",
       "  </thead>\n",
       "  <tbody>\n",
       "    <tr>\n",
       "      <th>0</th>\n",
       "      <td>842</td>\n",
       "      <td>0</td>\n",
       "      <td>2.2</td>\n",
       "      <td>0</td>\n",
       "      <td>1</td>\n",
       "      <td>0</td>\n",
       "      <td>7</td>\n",
       "      <td>0.6</td>\n",
       "      <td>188</td>\n",
       "      <td>2</td>\n",
       "      <td>2</td>\n",
       "      <td>20</td>\n",
       "      <td>756</td>\n",
       "      <td>2549</td>\n",
       "      <td>9</td>\n",
       "      <td>7</td>\n",
       "      <td>19</td>\n",
       "      <td>0</td>\n",
       "      <td>0</td>\n",
       "      <td>1</td>\n",
       "    </tr>\n",
       "    <tr>\n",
       "      <th>1</th>\n",
       "      <td>1021</td>\n",
       "      <td>1</td>\n",
       "      <td>0.5</td>\n",
       "      <td>1</td>\n",
       "      <td>0</td>\n",
       "      <td>1</td>\n",
       "      <td>53</td>\n",
       "      <td>0.7</td>\n",
       "      <td>136</td>\n",
       "      <td>3</td>\n",
       "      <td>6</td>\n",
       "      <td>905</td>\n",
       "      <td>1988</td>\n",
       "      <td>2631</td>\n",
       "      <td>17</td>\n",
       "      <td>3</td>\n",
       "      <td>7</td>\n",
       "      <td>1</td>\n",
       "      <td>1</td>\n",
       "      <td>0</td>\n",
       "    </tr>\n",
       "    <tr>\n",
       "      <th>2</th>\n",
       "      <td>563</td>\n",
       "      <td>1</td>\n",
       "      <td>0.5</td>\n",
       "      <td>1</td>\n",
       "      <td>2</td>\n",
       "      <td>1</td>\n",
       "      <td>41</td>\n",
       "      <td>0.9</td>\n",
       "      <td>145</td>\n",
       "      <td>5</td>\n",
       "      <td>6</td>\n",
       "      <td>1263</td>\n",
       "      <td>1716</td>\n",
       "      <td>2603</td>\n",
       "      <td>11</td>\n",
       "      <td>2</td>\n",
       "      <td>9</td>\n",
       "      <td>1</td>\n",
       "      <td>1</td>\n",
       "      <td>0</td>\n",
       "    </tr>\n",
       "    <tr>\n",
       "      <th>3</th>\n",
       "      <td>615</td>\n",
       "      <td>1</td>\n",
       "      <td>2.5</td>\n",
       "      <td>0</td>\n",
       "      <td>0</td>\n",
       "      <td>0</td>\n",
       "      <td>10</td>\n",
       "      <td>0.8</td>\n",
       "      <td>131</td>\n",
       "      <td>6</td>\n",
       "      <td>9</td>\n",
       "      <td>1216</td>\n",
       "      <td>1786</td>\n",
       "      <td>2769</td>\n",
       "      <td>16</td>\n",
       "      <td>8</td>\n",
       "      <td>11</td>\n",
       "      <td>1</td>\n",
       "      <td>0</td>\n",
       "      <td>0</td>\n",
       "    </tr>\n",
       "    <tr>\n",
       "      <th>4</th>\n",
       "      <td>1821</td>\n",
       "      <td>1</td>\n",
       "      <td>1.2</td>\n",
       "      <td>0</td>\n",
       "      <td>13</td>\n",
       "      <td>1</td>\n",
       "      <td>44</td>\n",
       "      <td>0.6</td>\n",
       "      <td>141</td>\n",
       "      <td>2</td>\n",
       "      <td>14</td>\n",
       "      <td>1208</td>\n",
       "      <td>1212</td>\n",
       "      <td>1411</td>\n",
       "      <td>8</td>\n",
       "      <td>2</td>\n",
       "      <td>15</td>\n",
       "      <td>1</td>\n",
       "      <td>1</td>\n",
       "      <td>0</td>\n",
       "    </tr>\n",
       "  </tbody>\n",
       "</table>\n",
       "</div>"
      ],
      "text/plain": [
       "   battery_power  blue  clock_speed  dual_sim  fc  four_g  int_memory  m_dep  \\\n",
       "0            842     0          2.2         0   1       0           7    0.6   \n",
       "1           1021     1          0.5         1   0       1          53    0.7   \n",
       "2            563     1          0.5         1   2       1          41    0.9   \n",
       "3            615     1          2.5         0   0       0          10    0.8   \n",
       "4           1821     1          1.2         0  13       1          44    0.6   \n",
       "\n",
       "   mobile_wt  n_cores  pc  px_height  px_width   ram  sc_h  sc_w  talk_time  \\\n",
       "0        188        2   2         20       756  2549     9     7         19   \n",
       "1        136        3   6        905      1988  2631    17     3          7   \n",
       "2        145        5   6       1263      1716  2603    11     2          9   \n",
       "3        131        6   9       1216      1786  2769    16     8         11   \n",
       "4        141        2  14       1208      1212  1411     8     2         15   \n",
       "\n",
       "   three_g  touch_screen  wifi  \n",
       "0        0             0     1  \n",
       "1        1             1     0  \n",
       "2        1             1     0  \n",
       "3        1             0     0  \n",
       "4        1             1     0  "
      ]
     },
     "execution_count": 22,
     "metadata": {},
     "output_type": "execute_result"
    }
   ],
   "source": [
    "train[\"price_range\"].replace(to_replace=1, value=0, inplace=True)\n",
    "train[\"price_range\"].replace(to_replace=2, value=1, inplace=True)\n",
    "train[\"price_range\"].replace(to_replace=3, value=1, inplace=True)\n",
    "data = train[\"price_range\"]\n",
    "train = train.iloc[:,0:20]\n",
    "train.head()"
   ]
  },
  {
   "cell_type": "code",
   "execution_count": 23,
   "metadata": {
    "collapsed": true
   },
   "outputs": [],
   "source": [
    "from sklearn.model_selection import train_test_split\n",
    "X_train, X_test, y_train, y_test = train_test_split(train, data, test_size=0.3, random_state=18)"
   ]
  },
  {
   "cell_type": "markdown",
   "metadata": {},
   "source": [
    "## Часть 1. Логистическая регрессия"
   ]
  },
  {
   "cell_type": "markdown",
   "metadata": {},
   "source": [
    "Нормирование данных"
   ]
  },
  {
   "cell_type": "code",
   "execution_count": 24,
   "metadata": {
    "collapsed": true
   },
   "outputs": [],
   "source": [
    "from sklearn.preprocessing import StandardScaler\n",
    "scaler = StandardScaler()\n",
    "scaler.fit(train)\n",
    "X_test = scaler.transform(X_test)\n",
    "X_train = scaler.transform(X_train)"
   ]
  },
  {
   "cell_type": "markdown",
   "metadata": {},
   "source": [
    "Обучение логистической регрессии"
   ]
  },
  {
   "cell_type": "code",
   "execution_count": 25,
   "metadata": {
    "collapsed": true
   },
   "outputs": [],
   "source": [
    "from sklearn.linear_model import LogisticRegression\n",
    "lr = LogisticRegression()\n",
    "lr.fit(X_train, y_train)\n",
    "y_pred = lr.predict(X_test)\n",
    "y_proba = lr.predict_proba(X_test)[:,1]"
   ]
  },
  {
   "cell_type": "code",
   "execution_count": 26,
   "metadata": {},
   "outputs": [
    {
     "data": {
      "text/plain": [
       "0.9995888477736663"
      ]
     },
     "execution_count": 26,
     "metadata": {},
     "output_type": "execute_result"
    }
   ],
   "source": [
    "from sklearn.metrics import roc_auc_score\n",
    "roc_auc_score(y_test, y_proba)"
   ]
  },
  {
   "cell_type": "code",
   "execution_count": 27,
   "metadata": {},
   "outputs": [
    {
     "data": {
      "text/plain": [
       "0.98999999999999999"
      ]
     },
     "execution_count": 27,
     "metadata": {},
     "output_type": "execute_result"
    }
   ],
   "source": [
    "from sklearn.metrics import accuracy_score\n",
    "accuracy_score(y_test, y_pred)"
   ]
  },
  {
   "cell_type": "markdown",
   "metadata": {},
   "source": [
    "Предсказания показывают высокое качество по обеим метрикам."
   ]
  },
  {
   "cell_type": "code",
   "execution_count": 28,
   "metadata": {},
   "outputs": [
    {
     "name": "stdout",
     "output_type": "stream",
     "text": [
      "[[  2.20453189e+00   7.02039070e-02  -5.65798295e-03  -8.53892982e-02\n",
      "    6.32353202e-02  -8.22125385e-02   8.03594577e-02  -2.08572937e-01\n",
      "   -2.74918660e-01   1.60179160e-01   5.16067552e-02   1.16896820e+00\n",
      "    1.34546466e+00   8.52764820e+00  -1.61415005e-01   1.14125024e-01\n",
      "    3.18832654e-02   1.52384329e-01  -7.96688841e-02  -1.50412156e-01]]\n"
     ]
    }
   ],
   "source": [
    "w = lr.coef_\n",
    "print(w)"
   ]
  },
  {
   "cell_type": "code",
   "execution_count": 29,
   "metadata": {},
   "outputs": [
    {
     "name": "stdout",
     "output_type": "stream",
     "text": [
      "[ 0.08061748]\n"
     ]
    }
   ],
   "source": [
    "w_0 = lr.intercept_\n",
    "print(w_0)"
   ]
  },
  {
   "cell_type": "code",
   "execution_count": 30,
   "metadata": {
    "collapsed": true
   },
   "outputs": [],
   "source": [
    "b = w_0 + np.sum(w * X_test, axis = 1)"
   ]
  },
  {
   "cell_type": "code",
   "execution_count": 37,
   "metadata": {},
   "outputs": [
    {
     "data": {
      "image/png": "[encoded data removed]",
      "text/plain": [
       "<matplotlib.figure.Figure at 0xa2ccf873c8>"
      ]
     },
     "metadata": {},
     "output_type": "display_data"
    }
   ],
   "source": [
    "plt.hist(b, bins=50, edgecolor ='black')\n",
    "plt.show()"
   ]
  },
  {
   "cell_type": "code",
   "execution_count": 39,
   "metadata": {},
   "outputs": [
    {
     "data": {
      "text/plain": [
       "0   -18.678439\n",
       "dtype: float64"
      ]
     },
     "execution_count": 39,
     "metadata": {},
     "output_type": "execute_result"
    }
   ],
   "source": [
    "pd.DataFrame(b).min()"
   ]
  },
  {
   "cell_type": "code",
   "execution_count": 40,
   "metadata": {},
   "outputs": [
    {
     "data": {
      "text/plain": [
       "0    19.926851\n",
       "dtype: float64"
      ]
     },
     "execution_count": 40,
     "metadata": {},
     "output_type": "execute_result"
    }
   ],
   "source": [
    "pd.DataFrame(b).max()"
   ]
  },
  {
   "cell_type": "markdown",
   "metadata": {},
   "source": [
    "предсказания принимают значения примерно от -19 до 20. С одной стороны, эти значения не похожи на вероятности классов, так как они не принадлежат отрезку [0,1], однако они, как и вероятности классов, они показывают степень отношения к тому или иному классу."
   ]
  },
  {
   "cell_type": "code",
   "execution_count": 34,
   "metadata": {
    "collapsed": true
   },
   "outputs": [],
   "source": [
    "def sigmoida(x):\n",
    "    return 1 / (1 + np.exp(-x))"
   ]
  },
  {
   "cell_type": "code",
   "execution_count": 35,
   "metadata": {},
   "outputs": [
    {
     "data": {
      "image/png": "[encoded data removed]",
      "text/plain": [
       "<matplotlib.figure.Figure at 0xa2cd192e80>"
      ]
     },
     "metadata": {},
     "output_type": "display_data"
    }
   ],
   "source": [
    "plt.title('sigmoida')\n",
    "x = np.linspace(-10, 10, 1000)\n",
    "plt.plot(x, sigmoida(x))\n",
    "plt.show()"
   ]
  },
  {
   "cell_type": "markdown",
   "metadata": {},
   "source": [
    "Функция принимает значения от 0 до 1, поэтому можно рассматривать как вероятность, функция гладкая."
   ]
  },
  {
   "cell_type": "code",
   "execution_count": 274,
   "metadata": {},
   "outputs": [
    {
     "name": "stdout",
     "output_type": "stream",
     "text": [
      "[  9.99999908e-01   2.02923018e-07   1.37254069e-01   2.17041909e-01\n",
      "   9.67990920e-01   1.60190749e-02   9.99940744e-01   2.95412034e-05\n",
      "   6.68273533e-07   9.99420800e-01   9.99965667e-01   1.38430615e-01\n",
      "   5.72330861e-01   9.22089361e-01   9.99999974e-01   5.48082773e-01\n",
      "   9.98324364e-01   1.25921464e-06   4.18547754e-08   2.95526925e-03\n",
      "   9.99998982e-01   2.76487684e-02   1.00502607e-07   6.46605140e-04\n",
      "   9.72803241e-01   1.99926275e-08   7.21725787e-01   4.51854239e-04\n",
      "   3.44630559e-04   8.65201175e-04   9.99999975e-01   3.87435640e-05\n",
      "   5.67883523e-02   9.99999884e-01   1.09820814e-03   5.18549452e-03\n",
      "   9.99914929e-01   1.72426206e-02   9.81440238e-01   3.34397379e-03\n",
      "   9.99268646e-01   9.99999936e-01   9.99995663e-01   9.99115852e-01\n",
      "   9.99730002e-01   9.43430905e-01   8.48061669e-07   9.97672522e-01\n",
      "   9.99647173e-01   5.96577254e-02   9.99999860e-01   9.47110410e-01\n",
      "   3.85957000e-06   9.63386342e-01   3.21573415e-02   1.08836502e-02\n",
      "   1.25406654e-05   9.99675200e-01   4.92311014e-01   1.17966220e-07\n",
      "   7.33021195e-07   1.79532292e-01   3.08173741e-06   4.67332471e-01\n",
      "   1.70457472e-06   2.63979247e-07   1.02404214e-04   9.11232354e-01\n",
      "   9.99999278e-01   1.77707078e-08   9.99106474e-01   8.53862132e-01\n",
      "   9.99998780e-01   4.33154033e-06   8.83643759e-01   2.06889649e-06\n",
      "   2.05627813e-08   9.98899762e-01   6.54799829e-05   9.60048128e-01\n",
      "   4.47117509e-03   9.99821256e-01   9.99964214e-01   9.26214206e-01\n",
      "   1.15508139e-08   5.02404784e-06   1.43400187e-03   9.61764125e-01\n",
      "   9.98971296e-01   9.99992227e-01   2.21834534e-06   3.12258371e-02\n",
      "   8.12757820e-05   9.85589880e-01   1.68554280e-02   9.98829845e-01\n",
      "   9.99892483e-01   3.81947928e-01   9.99999973e-01   9.39032271e-05\n",
      "   4.53822192e-02   9.95316365e-01   9.99857193e-01   9.96438185e-01\n",
      "   9.96163121e-01   7.55891613e-01   1.15636406e-05   4.18524350e-01\n",
      "   9.05445619e-01   2.64236780e-04   9.99999992e-01   9.99998441e-01\n",
      "   9.97466502e-01   9.99991797e-01   5.29115613e-06   1.26484850e-01\n",
      "   5.69067321e-01   9.99820483e-01   1.46605509e-03   1.22968712e-03\n",
      "   7.72782331e-09   9.71894425e-01   5.47934211e-01   1.18212077e-06\n",
      "   9.99989030e-01   9.98966196e-01   8.68858212e-02   8.63550343e-01\n",
      "   3.80954071e-01   9.77453758e-01   9.99999824e-01   8.49012078e-02\n",
      "   6.70638484e-01   1.21428836e-04   9.99992795e-01   1.14092780e-02\n",
      "   9.96989271e-01   9.99999724e-01   1.40218446e-05   9.95067147e-01\n",
      "   4.95556668e-03   1.81784269e-01   8.50759324e-01   2.56618452e-02\n",
      "   9.99999936e-01   6.03320475e-02   9.99353200e-01   1.44341778e-01\n",
      "   1.17809573e-01   4.24013383e-01   9.99759464e-01   9.22887660e-03\n",
      "   9.99712241e-01   8.67017818e-05   5.18888752e-01   8.10024264e-01\n",
      "   9.99913122e-01   9.99826981e-01   9.99928695e-01   3.76435067e-02\n",
      "   9.99996445e-01   9.99971549e-01   4.22315758e-04   2.22286373e-04\n",
      "   9.92317700e-01   1.06718360e-02   3.10928120e-01   3.57417511e-05\n",
      "   1.54964972e-04   9.95873503e-01   4.29798352e-04   9.99999812e-01\n",
      "   7.86393529e-05   3.15703275e-04   3.34214555e-04   7.42499449e-01\n",
      "   8.28122833e-01   1.36899911e-04   9.99968057e-01   8.53581869e-03\n",
      "   9.99046887e-01   1.28691369e-03   8.99620507e-01   3.06595513e-02\n",
      "   9.99749844e-01   1.95173666e-06   9.99999670e-01   9.51423246e-01\n",
      "   6.15209642e-01   9.99842270e-01   3.04865632e-03   9.03916279e-01\n",
      "   1.50400439e-04   9.62355804e-01   9.99999964e-01   8.84998481e-01\n",
      "   6.21938342e-03   9.99999998e-01   2.67922669e-01   1.31903143e-05\n",
      "   9.99997272e-01   8.90364592e-04   2.01970276e-01   4.03333510e-03\n",
      "   2.14072728e-02   7.22317089e-06   9.99999344e-01   3.09251876e-01\n",
      "   3.17441456e-01   9.95965337e-01   9.98970238e-01   9.99998258e-01\n",
      "   5.03504639e-04   9.99812802e-01   7.41192704e-02   9.83164732e-01\n",
      "   5.63112364e-01   9.99295288e-01   9.99999995e-01   4.31354534e-04\n",
      "   5.79688861e-05   2.15748512e-05   4.82311657e-08   9.99999042e-01\n",
      "   7.03857920e-01   1.74691687e-01   9.99999350e-01   9.90481418e-01\n",
      "   4.71787665e-08   9.96163750e-01   1.80167208e-07   3.41949457e-01\n",
      "   5.94021185e-01   1.04301522e-01   9.99972507e-01   1.26392489e-01\n",
      "   3.85843939e-01   9.64302157e-01   9.99999965e-01   9.94591930e-01\n",
      "   4.24373322e-06   9.69155704e-01   9.86749595e-01   1.63118600e-06\n",
      "   9.99999920e-01   7.11226001e-03   1.70458092e-04   9.99999977e-01\n",
      "   9.50837953e-01   4.26613858e-07   9.27630064e-06   5.86354931e-03\n",
      "   8.56818414e-06   1.90776211e-02   2.64328489e-01   9.99969066e-01\n",
      "   4.41240054e-07   9.90236531e-01   1.10770984e-01   7.91526859e-03\n",
      "   6.18449385e-02   9.07527749e-01   7.34732010e-06   9.99999997e-01\n",
      "   2.45461968e-05   9.99967936e-01   8.17693173e-01   8.85429064e-01\n",
      "   2.22428378e-05   2.99654576e-01   2.01292766e-01   2.54323534e-02\n",
      "   1.02582720e-07   5.67385477e-02   9.99884490e-01   7.97113330e-01\n",
      "   3.25283799e-03   9.99581515e-01   1.68917028e-07   1.29419755e-01\n",
      "   7.39818486e-04   3.00154563e-05   1.32964844e-06   4.15928006e-05\n",
      "   2.17492252e-01   4.24793639e-03   8.01667332e-01   1.77609760e-04\n",
      "   8.70491612e-07   6.66027926e-02   3.92991634e-03   9.99999702e-01\n",
      "   1.57390867e-03   7.83847723e-01   2.11695487e-05   9.98052785e-01\n",
      "   1.05049451e-04   9.99680524e-01   6.65972900e-02   2.80505810e-02\n",
      "   9.31699563e-01   8.22576729e-02   8.53318405e-01   3.90421674e-01\n",
      "   1.66851447e-05   5.37259388e-01   9.99988714e-01   2.08537175e-02\n",
      "   9.85286204e-01   1.34035769e-05   9.98260347e-01   9.99047256e-01\n",
      "   9.99999715e-01   1.76492851e-01   1.20396177e-02   9.99999775e-01\n",
      "   7.44011601e-08   9.99555212e-01   9.99999457e-01   9.99993312e-01\n",
      "   6.09698186e-07   2.85023713e-06   1.20209059e-03   9.99997872e-01\n",
      "   6.06127063e-05   5.75896054e-05   8.94934982e-01   9.99613640e-01\n",
      "   1.70041793e-01   9.99988257e-01   9.99984949e-01   9.63321476e-01\n",
      "   6.37769157e-04   1.63254697e-01   9.99994775e-01   9.99997130e-01\n",
      "   9.99837477e-01   9.69895125e-01   1.97971789e-01   2.10045210e-07\n",
      "   5.44028332e-01   9.03992151e-01   3.20571997e-04   2.52405861e-05\n",
      "   9.86673397e-01   1.57892764e-03   2.92644704e-02   1.96166612e-01\n",
      "   8.00767018e-04   9.84001015e-02   9.99755404e-01   4.21918027e-05\n",
      "   1.47858434e-06   1.88998453e-06   1.68781016e-05   2.41401324e-01\n",
      "   5.08233649e-07   9.52099000e-02   9.37720471e-01   7.09063685e-04\n",
      "   9.98877788e-01   9.90900185e-01   2.42922543e-05   9.94595003e-01\n",
      "   9.62336710e-01   4.77749886e-01   9.99988117e-01   9.98802987e-01\n",
      "   4.10786708e-02   9.99936524e-01   3.18079080e-05   1.01778596e-03\n",
      "   9.99599746e-01   9.71279731e-01   9.98469535e-01   9.99997455e-01\n",
      "   9.80695066e-01   9.99999268e-01   9.90247171e-01   9.86665692e-01\n",
      "   3.53851288e-02   9.96344721e-01   2.05680899e-02   9.60975789e-01\n",
      "   9.97418874e-01   9.90560868e-01   2.54632847e-02   9.84804862e-01\n",
      "   7.88330224e-05   9.08732422e-01   3.04218197e-04   8.09356265e-01\n",
      "   1.23028124e-07   9.88101744e-01   8.20827378e-01   1.09049123e-02\n",
      "   9.99989733e-01   9.18310724e-01   1.03747554e-03   9.99572699e-01\n",
      "   3.10025970e-02   9.77188687e-01   9.91172746e-01   5.77516152e-01\n",
      "   9.99997613e-01   1.22100311e-07   5.87185728e-06   1.10217465e-02\n",
      "   9.96471665e-01   5.63803100e-01   6.03364419e-01   9.99919024e-01\n",
      "   4.51260854e-04   9.97125142e-01   9.99999885e-01   9.98299980e-01\n",
      "   8.97279332e-01   9.17563759e-01   2.61600494e-07   7.70087012e-01\n",
      "   9.86382297e-01   8.86939990e-01   4.18099537e-03   3.53006068e-02\n",
      "   9.65224441e-06   9.58363285e-01   2.11189364e-06   9.99303298e-01\n",
      "   3.38812998e-04   3.08110387e-01   1.09110591e-05   5.14337349e-07\n",
      "   9.90382328e-01   2.17744343e-05   5.04559428e-01   9.99984267e-01\n",
      "   3.68268729e-01   9.99999875e-01   3.09809885e-08   2.02992363e-04\n",
      "   9.99999906e-01   9.97090073e-01   9.96713072e-01   9.96373286e-01\n",
      "   9.99967017e-01   4.74351528e-01   9.83753143e-01   9.99998090e-01\n",
      "   1.22040137e-02   2.70873369e-02   9.42874560e-01   5.70813783e-04\n",
      "   9.99561032e-01   8.17591064e-06   1.19253536e-01   9.99999968e-01\n",
      "   9.99999994e-01   9.99993160e-01   2.13011285e-05   2.86099031e-02\n",
      "   9.99903321e-01   4.18175539e-06   5.13454728e-05   6.50301840e-01\n",
      "   8.70367779e-01   3.16072505e-01   9.99990924e-01   9.99540996e-01\n",
      "   5.76897883e-05   8.54180847e-07   9.99989376e-01   7.25149663e-02\n",
      "   1.90659876e-05   8.64007033e-01   9.99761396e-01   5.29335647e-07\n",
      "   4.60580798e-05   1.88927070e-04   3.55776546e-03   2.38799026e-04\n",
      "   9.98871714e-01   9.69867298e-03   9.95738057e-01   9.91402113e-01\n",
      "   1.14544316e-01   1.13849441e-04   4.31142405e-07   7.18393971e-01\n",
      "   9.99958763e-01   9.99794528e-01   8.76310291e-03   1.66301170e-02\n",
      "   2.08117253e-05   3.02044482e-02   8.81386755e-01   9.99980379e-01\n",
      "   1.69025254e-05   9.99343253e-01   1.17645863e-06   9.94066704e-01\n",
      "   9.29404562e-01   9.69102340e-01   9.82796466e-02   9.87302781e-01\n",
      "   1.89688687e-05   9.13029913e-01   4.82562810e-03   9.97721290e-01\n",
      "   9.99834692e-01   9.99994823e-01   2.31513443e-05   9.99781476e-01\n",
      "   9.99787619e-01   8.52665554e-02   4.97848928e-02   1.00983757e-05\n",
      "   9.40017238e-01   4.41715775e-04   9.99993331e-01   9.92105190e-01\n",
      "   6.34102418e-01   5.45710930e-02   9.99203657e-01   9.99999860e-01\n",
      "   6.78862580e-03   1.48917836e-04   4.86903344e-01   5.29131102e-01\n",
      "   9.99968532e-01   1.03139017e-07   9.31478130e-02   3.11806751e-06\n",
      "   8.25504337e-01   9.99999782e-01   9.99225776e-01   9.21405943e-01\n",
      "   3.83840725e-05   9.99343616e-01   9.98454268e-01   3.61896446e-01\n",
      "   9.99998898e-01   9.97302406e-01   8.74557035e-01   2.84874095e-02\n",
      "   9.99653843e-01   9.99260618e-01   9.99339402e-01   9.95717936e-01\n",
      "   9.77319755e-04   8.81661091e-01   9.95727157e-01   7.02150371e-06\n",
      "   9.91072762e-01   9.99987795e-01   9.99938694e-01   4.11688407e-07\n",
      "   9.99999647e-01   6.25758667e-03   2.19228444e-03   9.96963772e-01\n",
      "   4.76514685e-01   9.64606794e-01   1.05383677e-05   4.57480771e-04\n",
      "   1.87330922e-01   9.99773414e-01   9.99999656e-01   4.18711181e-08\n",
      "   1.28232046e-01   9.99343569e-01   3.15015513e-02   9.99999826e-01\n",
      "   9.86412796e-01   1.06582918e-05   9.13893979e-05   3.38183560e-05\n",
      "   9.99999913e-01   4.87778526e-01   1.77361928e-07   1.62626862e-05\n",
      "   1.02456088e-04   9.99923378e-01   1.84051147e-02   1.54504608e-06\n",
      "   1.23940923e-01   2.26465353e-04   5.24375406e-04   9.99382827e-01\n",
      "   9.99208296e-01   9.99999860e-01   9.69857608e-01   2.06306687e-02\n",
      "   4.33529565e-02   9.99999959e-01   1.66367512e-03   6.97906061e-01\n",
      "   9.99987523e-01   9.05221016e-01   1.17925458e-02   9.85961487e-01]\n"
     ]
    }
   ],
   "source": [
    "sigmoida(b)\n",
    "print(sigmoida(b))"
   ]
  },
  {
   "cell_type": "code",
   "execution_count": 275,
   "metadata": {},
   "outputs": [
    {
     "data": {
      "text/plain": [
       "array([  9.99999908e-01,   2.02923018e-07,   1.37254069e-01,\n",
       "         2.17041909e-01,   9.67990920e-01,   1.60190749e-02,\n",
       "         9.99940744e-01,   2.95412034e-05,   6.68273533e-07,\n",
       "         9.99420800e-01,   9.99965667e-01,   1.38430615e-01,\n",
       "         5.72330861e-01,   9.22089361e-01,   9.99999974e-01,\n",
       "         5.48082773e-01,   9.98324364e-01,   1.25921464e-06,\n",
       "         4.18547754e-08,   2.95526925e-03,   9.99998982e-01,\n",
       "         2.76487684e-02,   1.00502607e-07,   6.46605140e-04,\n",
       "         9.72803241e-01,   1.99926275e-08,   7.21725787e-01,\n",
       "         4.51854239e-04,   3.44630559e-04,   8.65201175e-04,\n",
       "         9.99999975e-01,   3.87435640e-05,   5.67883523e-02,\n",
       "         9.99999884e-01,   1.09820814e-03,   5.18549452e-03,\n",
       "         9.99914929e-01,   1.72426206e-02,   9.81440238e-01,\n",
       "         3.34397379e-03,   9.99268646e-01,   9.99999936e-01,\n",
       "         9.99995663e-01,   9.99115852e-01,   9.99730002e-01,\n",
       "         9.43430905e-01,   8.48061669e-07,   9.97672522e-01,\n",
       "         9.99647173e-01,   5.96577254e-02,   9.99999860e-01,\n",
       "         9.47110410e-01,   3.85957000e-06,   9.63386342e-01,\n",
       "         3.21573415e-02,   1.08836502e-02,   1.25406654e-05,\n",
       "         9.99675200e-01,   4.92311014e-01,   1.17966220e-07,\n",
       "         7.33021195e-07,   1.79532292e-01,   3.08173741e-06,\n",
       "         4.67332471e-01,   1.70457472e-06,   2.63979247e-07,\n",
       "         1.02404214e-04,   9.11232354e-01,   9.99999278e-01,\n",
       "         1.77707078e-08,   9.99106474e-01,   8.53862132e-01,\n",
       "         9.99998780e-01,   4.33154033e-06,   8.83643759e-01,\n",
       "         2.06889649e-06,   2.05627813e-08,   9.98899762e-01,\n",
       "         6.54799829e-05,   9.60048128e-01,   4.47117509e-03,\n",
       "         9.99821256e-01,   9.99964214e-01,   9.26214206e-01,\n",
       "         1.15508139e-08,   5.02404784e-06,   1.43400187e-03,\n",
       "         9.61764125e-01,   9.98971296e-01,   9.99992227e-01,\n",
       "         2.21834534e-06,   3.12258371e-02,   8.12757820e-05,\n",
       "         9.85589880e-01,   1.68554280e-02,   9.98829845e-01,\n",
       "         9.99892483e-01,   3.81947928e-01,   9.99999973e-01,\n",
       "         9.39032271e-05,   4.53822192e-02,   9.95316365e-01,\n",
       "         9.99857193e-01,   9.96438185e-01,   9.96163121e-01,\n",
       "         7.55891613e-01,   1.15636406e-05,   4.18524350e-01,\n",
       "         9.05445619e-01,   2.64236780e-04,   9.99999992e-01,\n",
       "         9.99998441e-01,   9.97466502e-01,   9.99991797e-01,\n",
       "         5.29115613e-06,   1.26484850e-01,   5.69067321e-01,\n",
       "         9.99820483e-01,   1.46605509e-03,   1.22968712e-03,\n",
       "         7.72782331e-09,   9.71894425e-01,   5.47934211e-01,\n",
       "         1.18212077e-06,   9.99989030e-01,   9.98966196e-01,\n",
       "         8.68858212e-02,   8.63550343e-01,   3.80954071e-01,\n",
       "         9.77453758e-01,   9.99999824e-01,   8.49012078e-02,\n",
       "         6.70638484e-01,   1.21428836e-04,   9.99992795e-01,\n",
       "         1.14092780e-02,   9.96989271e-01,   9.99999724e-01,\n",
       "         1.40218446e-05,   9.95067147e-01,   4.95556668e-03,\n",
       "         1.81784269e-01,   8.50759324e-01,   2.56618452e-02,\n",
       "         9.99999936e-01,   6.03320475e-02,   9.99353200e-01,\n",
       "         1.44341778e-01,   1.17809573e-01,   4.24013383e-01,\n",
       "         9.99759464e-01,   9.22887660e-03,   9.99712241e-01,\n",
       "         8.67017818e-05,   5.18888752e-01,   8.10024264e-01,\n",
       "         9.99913122e-01,   9.99826981e-01,   9.99928695e-01,\n",
       "         3.76435067e-02,   9.99996445e-01,   9.99971549e-01,\n",
       "         4.22315758e-04,   2.22286373e-04,   9.92317700e-01,\n",
       "         1.06718360e-02,   3.10928120e-01,   3.57417511e-05,\n",
       "         1.54964972e-04,   9.95873503e-01,   4.29798352e-04,\n",
       "         9.99999812e-01,   7.86393529e-05,   3.15703275e-04,\n",
       "         3.34214555e-04,   7.42499449e-01,   8.28122833e-01,\n",
       "         1.36899911e-04,   9.99968057e-01,   8.53581869e-03,\n",
       "         9.99046887e-01,   1.28691369e-03,   8.99620507e-01,\n",
       "         3.06595513e-02,   9.99749844e-01,   1.95173666e-06,\n",
       "         9.99999670e-01,   9.51423246e-01,   6.15209642e-01,\n",
       "         9.99842270e-01,   3.04865632e-03,   9.03916279e-01,\n",
       "         1.50400439e-04,   9.62355804e-01,   9.99999964e-01,\n",
       "         8.84998481e-01,   6.21938342e-03,   9.99999998e-01,\n",
       "         2.67922669e-01,   1.31903143e-05,   9.99997272e-01,\n",
       "         8.90364592e-04,   2.01970276e-01,   4.03333510e-03,\n",
       "         2.14072728e-02,   7.22317089e-06,   9.99999344e-01,\n",
       "         3.09251876e-01,   3.17441456e-01,   9.95965337e-01,\n",
       "         9.98970238e-01,   9.99998258e-01,   5.03504639e-04,\n",
       "         9.99812802e-01,   7.41192704e-02,   9.83164732e-01,\n",
       "         5.63112364e-01,   9.99295288e-01,   9.99999995e-01,\n",
       "         4.31354534e-04,   5.79688861e-05,   2.15748512e-05,\n",
       "         4.82311657e-08,   9.99999042e-01,   7.03857920e-01,\n",
       "         1.74691687e-01,   9.99999350e-01,   9.90481418e-01,\n",
       "         4.71787665e-08,   9.96163750e-01,   1.80167208e-07,\n",
       "         3.41949457e-01,   5.94021185e-01,   1.04301522e-01,\n",
       "         9.99972507e-01,   1.26392489e-01,   3.85843939e-01,\n",
       "         9.64302157e-01,   9.99999965e-01,   9.94591930e-01,\n",
       "         4.24373322e-06,   9.69155704e-01,   9.86749595e-01,\n",
       "         1.63118600e-06,   9.99999920e-01,   7.11226001e-03,\n",
       "         1.70458092e-04,   9.99999977e-01,   9.50837953e-01,\n",
       "         4.26613858e-07,   9.27630064e-06,   5.86354931e-03,\n",
       "         8.56818414e-06,   1.90776211e-02,   2.64328489e-01,\n",
       "         9.99969066e-01,   4.41240054e-07,   9.90236531e-01,\n",
       "         1.10770984e-01,   7.91526859e-03,   6.18449385e-02,\n",
       "         9.07527749e-01,   7.34732010e-06,   9.99999997e-01,\n",
       "         2.45461968e-05,   9.99967936e-01,   8.17693173e-01,\n",
       "         8.85429064e-01,   2.22428378e-05,   2.99654576e-01,\n",
       "         2.01292766e-01,   2.54323534e-02,   1.02582720e-07,\n",
       "         5.67385477e-02,   9.99884490e-01,   7.97113330e-01,\n",
       "         3.25283799e-03,   9.99581515e-01,   1.68917028e-07,\n",
       "         1.29419755e-01,   7.39818486e-04,   3.00154563e-05,\n",
       "         1.32964844e-06,   4.15928006e-05,   2.17492252e-01,\n",
       "         4.24793639e-03,   8.01667332e-01,   1.77609760e-04,\n",
       "         8.70491612e-07,   6.66027926e-02,   3.92991634e-03,\n",
       "         9.99999702e-01,   1.57390867e-03,   7.83847723e-01,\n",
       "         2.11695487e-05,   9.98052785e-01,   1.05049451e-04,\n",
       "         9.99680524e-01,   6.65972900e-02,   2.80505810e-02,\n",
       "         9.31699563e-01,   8.22576729e-02,   8.53318405e-01,\n",
       "         3.90421674e-01,   1.66851447e-05,   5.37259388e-01,\n",
       "         9.99988714e-01,   2.08537175e-02,   9.85286204e-01,\n",
       "         1.34035769e-05,   9.98260347e-01,   9.99047256e-01,\n",
       "         9.99999715e-01,   1.76492851e-01,   1.20396177e-02,\n",
       "         9.99999775e-01,   7.44011601e-08,   9.99555212e-01,\n",
       "         9.99999457e-01,   9.99993312e-01,   6.09698186e-07,\n",
       "         2.85023713e-06,   1.20209059e-03,   9.99997872e-01,\n",
       "         6.06127063e-05,   5.75896054e-05,   8.94934982e-01,\n",
       "         9.99613640e-01,   1.70041793e-01,   9.99988257e-01,\n",
       "         9.99984949e-01,   9.63321476e-01,   6.37769157e-04,\n",
       "         1.63254697e-01,   9.99994775e-01,   9.99997130e-01,\n",
       "         9.99837477e-01,   9.69895125e-01,   1.97971789e-01,\n",
       "         2.10045210e-07,   5.44028332e-01,   9.03992151e-01,\n",
       "         3.20571997e-04,   2.52405861e-05,   9.86673397e-01,\n",
       "         1.57892764e-03,   2.92644704e-02,   1.96166612e-01,\n",
       "         8.00767018e-04,   9.84001015e-02,   9.99755404e-01,\n",
       "         4.21918027e-05,   1.47858434e-06,   1.88998453e-06,\n",
       "         1.68781016e-05,   2.41401324e-01,   5.08233649e-07,\n",
       "         9.52099000e-02,   9.37720471e-01,   7.09063685e-04,\n",
       "         9.98877788e-01,   9.90900185e-01,   2.42922543e-05,\n",
       "         9.94595003e-01,   9.62336710e-01,   4.77749886e-01,\n",
       "         9.99988117e-01,   9.98802987e-01,   4.10786708e-02,\n",
       "         9.99936524e-01,   3.18079080e-05,   1.01778596e-03,\n",
       "         9.99599746e-01,   9.71279731e-01,   9.98469535e-01,\n",
       "         9.99997455e-01,   9.80695066e-01,   9.99999268e-01,\n",
       "         9.90247171e-01,   9.86665692e-01,   3.53851288e-02,\n",
       "         9.96344721e-01,   2.05680899e-02,   9.60975789e-01,\n",
       "         9.97418874e-01,   9.90560868e-01,   2.54632847e-02,\n",
       "         9.84804862e-01,   7.88330224e-05,   9.08732422e-01,\n",
       "         3.04218197e-04,   8.09356265e-01,   1.23028124e-07,\n",
       "         9.88101744e-01,   8.20827378e-01,   1.09049123e-02,\n",
       "         9.99989733e-01,   9.18310724e-01,   1.03747554e-03,\n",
       "         9.99572699e-01,   3.10025970e-02,   9.77188687e-01,\n",
       "         9.91172746e-01,   5.77516152e-01,   9.99997613e-01,\n",
       "         1.22100311e-07,   5.87185728e-06,   1.10217465e-02,\n",
       "         9.96471665e-01,   5.63803100e-01,   6.03364419e-01,\n",
       "         9.99919024e-01,   4.51260854e-04,   9.97125142e-01,\n",
       "         9.99999885e-01,   9.98299980e-01,   8.97279332e-01,\n",
       "         9.17563759e-01,   2.61600494e-07,   7.70087012e-01,\n",
       "         9.86382297e-01,   8.86939990e-01,   4.18099537e-03,\n",
       "         3.53006068e-02,   9.65224441e-06,   9.58363285e-01,\n",
       "         2.11189364e-06,   9.99303298e-01,   3.38812998e-04,\n",
       "         3.08110387e-01,   1.09110591e-05,   5.14337349e-07,\n",
       "         9.90382328e-01,   2.17744343e-05,   5.04559428e-01,\n",
       "         9.99984267e-01,   3.68268729e-01,   9.99999875e-01,\n",
       "         3.09809885e-08,   2.02992363e-04,   9.99999906e-01,\n",
       "         9.97090073e-01,   9.96713072e-01,   9.96373286e-01,\n",
       "         9.99967017e-01,   4.74351528e-01,   9.83753143e-01,\n",
       "         9.99998090e-01,   1.22040137e-02,   2.70873369e-02,\n",
       "         9.42874560e-01,   5.70813783e-04,   9.99561032e-01,\n",
       "         8.17591064e-06,   1.19253536e-01,   9.99999968e-01,\n",
       "         9.99999994e-01,   9.99993160e-01,   2.13011285e-05,\n",
       "         2.86099031e-02,   9.99903321e-01,   4.18175539e-06,\n",
       "         5.13454728e-05,   6.50301840e-01,   8.70367779e-01,\n",
       "         3.16072505e-01,   9.99990924e-01,   9.99540996e-01,\n",
       "         5.76897883e-05,   8.54180847e-07,   9.99989376e-01,\n",
       "         7.25149663e-02,   1.90659876e-05,   8.64007033e-01,\n",
       "         9.99761396e-01,   5.29335647e-07,   4.60580798e-05,\n",
       "         1.88927070e-04,   3.55776546e-03,   2.38799026e-04,\n",
       "         9.98871714e-01,   9.69867298e-03,   9.95738057e-01,\n",
       "         9.91402113e-01,   1.14544316e-01,   1.13849441e-04,\n",
       "         4.31142405e-07,   7.18393971e-01,   9.99958763e-01,\n",
       "         9.99794528e-01,   8.76310291e-03,   1.66301170e-02,\n",
       "         2.08117253e-05,   3.02044482e-02,   8.81386755e-01,\n",
       "         9.99980379e-01,   1.69025254e-05,   9.99343253e-01,\n",
       "         1.17645863e-06,   9.94066704e-01,   9.29404562e-01,\n",
       "         9.69102340e-01,   9.82796466e-02,   9.87302781e-01,\n",
       "         1.89688687e-05,   9.13029913e-01,   4.82562810e-03,\n",
       "         9.97721290e-01,   9.99834692e-01,   9.99994823e-01,\n",
       "         2.31513443e-05,   9.99781476e-01,   9.99787619e-01,\n",
       "         8.52665554e-02,   4.97848928e-02,   1.00983757e-05,\n",
       "         9.40017238e-01,   4.41715775e-04,   9.99993331e-01,\n",
       "         9.92105190e-01,   6.34102418e-01,   5.45710930e-02,\n",
       "         9.99203657e-01,   9.99999860e-01,   6.78862580e-03,\n",
       "         1.48917836e-04,   4.86903344e-01,   5.29131102e-01,\n",
       "         9.99968532e-01,   1.03139017e-07,   9.31478130e-02,\n",
       "         3.11806751e-06,   8.25504337e-01,   9.99999782e-01,\n",
       "         9.99225776e-01,   9.21405943e-01,   3.83840725e-05,\n",
       "         9.99343616e-01,   9.98454268e-01,   3.61896446e-01,\n",
       "         9.99998898e-01,   9.97302406e-01,   8.74557035e-01,\n",
       "         2.84874095e-02,   9.99653843e-01,   9.99260618e-01,\n",
       "         9.99339402e-01,   9.95717936e-01,   9.77319755e-04,\n",
       "         8.81661091e-01,   9.95727157e-01,   7.02150371e-06,\n",
       "         9.91072762e-01,   9.99987795e-01,   9.99938694e-01,\n",
       "         4.11688407e-07,   9.99999647e-01,   6.25758667e-03,\n",
       "         2.19228444e-03,   9.96963772e-01,   4.76514685e-01,\n",
       "         9.64606794e-01,   1.05383677e-05,   4.57480771e-04,\n",
       "         1.87330922e-01,   9.99773414e-01,   9.99999656e-01,\n",
       "         4.18711181e-08,   1.28232046e-01,   9.99343569e-01,\n",
       "         3.15015513e-02,   9.99999826e-01,   9.86412796e-01,\n",
       "         1.06582918e-05,   9.13893979e-05,   3.38183560e-05,\n",
       "         9.99999913e-01,   4.87778526e-01,   1.77361928e-07,\n",
       "         1.62626862e-05,   1.02456088e-04,   9.99923378e-01,\n",
       "         1.84051147e-02,   1.54504608e-06,   1.23940923e-01,\n",
       "         2.26465353e-04,   5.24375406e-04,   9.99382827e-01,\n",
       "         9.99208296e-01,   9.99999860e-01,   9.69857608e-01,\n",
       "         2.06306687e-02,   4.33529565e-02,   9.99999959e-01,\n",
       "         1.66367512e-03,   6.97906061e-01,   9.99987523e-01,\n",
       "         9.05221016e-01,   1.17925458e-02,   9.85961487e-01])"
      ]
     },
     "execution_count": 275,
     "metadata": {},
     "output_type": "execute_result"
    }
   ],
   "source": [
    "y_proba"
   ]
  },
  {
   "cell_type": "code",
   "execution_count": 42,
   "metadata": {},
   "outputs": [
    {
     "data": {
      "text/plain": [
       "array([ True,  True, False,  True,  True,  True,  True, False,  True,\n",
       "        True,  True, False,  True,  True,  True,  True,  True,  True,\n",
       "        True,  True,  True,  True, False, False,  True,  True, False,\n",
       "        True, False, False,  True,  True,  True,  True,  True,  True,\n",
       "        True, False,  True, False,  True,  True,  True,  True,  True,\n",
       "        True,  True,  True,  True, False,  True,  True,  True,  True,\n",
       "       False,  True, False,  True, False,  True,  True, False,  True,\n",
       "        True, False,  True,  True,  True,  True,  True,  True,  True,\n",
       "        True,  True,  True,  True,  True,  True,  True,  True, False,\n",
       "        True,  True,  True,  True,  True,  True, False,  True,  True,\n",
       "        True,  True,  True,  True,  True,  True,  True,  True,  True,\n",
       "        True, False,  True,  True,  True,  True,  True,  True,  True,\n",
       "        True, False,  True,  True,  True,  True, False, False,  True,\n",
       "        True,  True, False, False,  True, False,  True,  True,  True,\n",
       "        True, False,  True,  True,  True,  True,  True, False,  True,\n",
       "        True,  True,  True, False,  True,  True,  True,  True, False,\n",
       "        True, False,  True, False,  True, False,  True,  True,  True,\n",
       "        True, False,  True,  True,  True,  True,  True,  True,  True,\n",
       "       False, False,  True,  True,  True,  True, False,  True,  True,\n",
       "        True,  True,  True,  True,  True, False,  True,  True,  True,\n",
       "        True,  True,  True, False,  True,  True,  True,  True,  True,\n",
       "        True,  True, False,  True,  True,  True,  True,  True,  True,\n",
       "       False,  True,  True,  True, False, False,  True, False,  True,\n",
       "        True,  True,  True,  True,  True,  True,  True, False,  True,\n",
       "        True,  True,  True, False, False,  True, False,  True,  True,\n",
       "       False,  True,  True,  True,  True, False,  True, False, False,\n",
       "        True, False,  True,  True,  True,  True,  True,  True,  True,\n",
       "       False,  True, False,  True,  True,  True, False,  True, False,\n",
       "        True,  True, False,  True,  True,  True, False,  True, False,\n",
       "        True,  True,  True,  True,  True,  True,  True,  True, False,\n",
       "        True,  True,  True, False,  True, False, False,  True,  True,\n",
       "       False,  True,  True,  True, False,  True,  True,  True,  True,\n",
       "        True,  True,  True,  True,  True,  True,  True,  True,  True,\n",
       "        True,  True, False,  True,  True, False, False, False,  True,\n",
       "        True,  True,  True,  True,  True,  True,  True, False, False,\n",
       "        True,  True,  True,  True,  True,  True, False,  True,  True,\n",
       "        True, False, False,  True,  True,  True,  True,  True, False,\n",
       "       False,  True,  True,  True,  True, False,  True, False,  True,\n",
       "        True,  True,  True, False,  True,  True,  True,  True,  True,\n",
       "       False, False,  True,  True, False,  True, False,  True,  True,\n",
       "        True,  True,  True,  True,  True, False,  True,  True, False,\n",
       "        True,  True, False,  True,  True,  True,  True,  True,  True,\n",
       "        True,  True,  True,  True, False,  True,  True,  True, False,\n",
       "        True,  True,  True, False,  True,  True,  True,  True,  True,\n",
       "        True,  True,  True,  True,  True,  True,  True,  True,  True,\n",
       "        True, False,  True,  True,  True, False,  True,  True,  True,\n",
       "        True,  True,  True,  True, False,  True,  True,  True, False,\n",
       "       False,  True,  True, False,  True,  True, False,  True,  True,\n",
       "        True,  True,  True,  True,  True,  True,  True,  True,  True,\n",
       "        True,  True,  True,  True, False,  True,  True,  True,  True,\n",
       "        True, False,  True,  True, False,  True,  True,  True,  True,\n",
       "        True,  True,  True,  True,  True,  True, False,  True,  True,\n",
       "        True,  True,  True, False, False,  True,  True,  True, False,\n",
       "        True,  True, False,  True,  True,  True,  True, False,  True,\n",
       "        True, False,  True,  True, False,  True, False, False,  True,\n",
       "        True,  True,  True,  True,  True,  True,  True,  True,  True,\n",
       "        True,  True,  True,  True,  True,  True,  True,  True,  True,\n",
       "        True,  True,  True, False,  True,  True,  True,  True,  True,\n",
       "        True,  True, False,  True, False, False,  True,  True, False,\n",
       "        True,  True,  True,  True,  True,  True,  True,  True,  True,\n",
       "        True,  True,  True,  True,  True,  True,  True,  True, False,\n",
       "        True,  True,  True,  True,  True,  True,  True,  True,  True,\n",
       "        True,  True, False,  True,  True, False,  True,  True,  True,\n",
       "        True, False,  True,  True,  True,  True,  True,  True,  True,\n",
       "        True,  True,  True, False,  True,  True, False,  True, False,\n",
       "       False,  True,  True,  True,  True,  True, False, False,  True,\n",
       "       False, False,  True,  True, False,  True], dtype=bool)"
      ]
     },
     "execution_count": 42,
     "metadata": {},
     "output_type": "execute_result"
    }
   ],
   "source": [
    "sigmoida(b) == y_proba"
   ]
  },
  {
   "cell_type": "markdown",
   "metadata": {},
   "source": [
    "False - из-за погрешности"
   ]
  },
  {
   "cell_type": "code",
   "execution_count": 44,
   "metadata": {},
   "outputs": [
    {
     "data": {
      "image/png": "[encoded data removed]",
      "text/plain": [
       "<matplotlib.figure.Figure at 0xa2ccf9af98>"
      ]
     },
     "metadata": {},
     "output_type": "display_data"
    }
   ],
   "source": [
    "from sklearn.metrics import roc_curve\n",
    "FPR, TPR, thresholds = roc_curve(y_test, y_proba)\n",
    "plt.title('ROC-curve')\n",
    "plt.xlabel('FPR')\n",
    "plt.ylabel('TPR')\n",
    "plt.plot(FPR,TPR)\n",
    "plt.show()"
   ]
  },
  {
   "cell_type": "code",
   "execution_count": 46,
   "metadata": {},
   "outputs": [
    {
     "data": {
      "image/png": "[encoded data removed]",
      "text/plain": [
       "<matplotlib.figure.Figure at 0xa2cd36b2e8>"
      ]
     },
     "metadata": {},
     "output_type": "display_data"
    }
   ],
   "source": [
    "from sklearn.metrics import precision_recall_curve\n",
    "plt.xlabel('Recall')\n",
    "plt.ylabel('Precision')\n",
    "plt.title('Precision-Recall Curve')\n",
    "precision, recall, tresholds = precision_recall_curve(y_test, y_proba)\n",
    "plt.plot(recall, precision)\n",
    "plt.show()"
   ]
  },
  {
   "cell_type": "markdown",
   "metadata": {},
   "source": [
    "## Часть 2. Случайные леса"
   ]
  },
  {
   "cell_type": "code",
   "execution_count": 62,
   "metadata": {},
   "outputs": [
    {
     "name": "stdout",
     "output_type": "stream",
     "text": [
      "[ 1.  0.  0.  1.  1.  0.  1.  0.  0.  1.  1.  0.  1.  0.  1.  1.  1.  0.\n",
      "  0.  0.  1.  0.  0.  0.  1.  0.  1.  0.  0.  0.  1.  0.  0.  1.  0.  0.\n",
      "  1.  0.  1.  0.  1.  1.  1.  1.  1.  1.  0.  1.  1.  0.  1.  1.  0.  1.\n",
      "  0.  0.  0.  1.  1.  0.  0.  0.  0.  1.  0.  0.  0.  1.  1.  0.  1.  1.\n",
      "  1.  0.  1.  0.  0.  1.  0.  1.  1.  1.  1.  1.  0.  0.  0.  1.  1.  1.\n",
      "  0.  0.  0.  1.  0.  1.  1.  1.  1.  0.  1.  1.  1.  1.  1.  1.  0.  0.\n",
      "  0.  0.  1.  1.  1.  1.  0.  0.  1.  1.  0.  0.  0.  1.  1.  0.  1.  1.\n",
      "  0.  1.  1.  1.  1.  0.  1.  0.  1.  0.  1.  1.  0.  1.  0.  0.  1.  0.\n",
      "  1.  0.  1.  0.  1.  1.  1.  0.  1.  0.  0.  1.  1.  1.  1.  0.  1.  1.\n",
      "  0.  0.  1.  0.  0.  0.  0.  1.  0.  1.  0.  0.  0.  1.  1.  0.  1.  1.\n",
      "  1.  0.  1.  0.  1.  0.  1.  1.  0.  1.  0.  0.  0.  1.  1.  1.  0.  1.\n",
      "  0.  0.  1.  0.  0.  0.  0.  0.  1.  0.  0.  1.  1.  1.  0.  1.  0.  1.\n",
      "  0.  1.  1.  0.  0.  0.  0.  1.  0.  0.  1.  1.  0.  1.  0.  0.  1.  0.\n",
      "  1.  0.  0.  0.  1.  1.  0.  1.  1.  0.  1.  0.  0.  1.  1.  0.  0.  0.\n",
      "  0.  0.  0.  1.  0.  1.  0.  0.  0.  1.  0.  1.  0.  1.  1.  1.  0.  0.\n",
      "  1.  0.  0.  0.  1.  0.  0.  1.  0.  1.  0.  0.  0.  0.  1.  0.  1.  0.\n",
      "  0.  0.  0.  1.  0.  1.  0.  1.  0.  1.  0.  0.  1.  0.  1.  1.  0.  1.\n",
      "  1.  0.  1.  0.  1.  1.  1.  0.  0.  1.  0.  1.  1.  1.  0.  0.  0.  1.\n",
      "  0.  0.  1.  1.  0.  1.  1.  1.  0.  0.  1.  1.  1.  1.  1.  0.  1.  1.\n",
      "  0.  0.  1.  0.  0.  0.  0.  1.  1.  0.  0.  0.  0.  1.  0.  0.  1.  0.\n",
      "  1.  1.  0.  1.  1.  1.  1.  1.  0.  1.  0.  0.  1.  1.  1.  1.  1.  1.\n",
      "  1.  0.  0.  1.  0.  1.  1.  1.  0.  1.  0.  1.  1.  1.  0.  1.  1.  0.\n",
      "  1.  0.  0.  1.  0.  0.  1.  0.  1.  0.  0.  0.  1.  0.  1.  1.  0.  1.\n",
      "  1.  1.  0.  1.  0.  0.  1.  1.  0.  0.  0.  1.  0.  1.  0.  1.  0.  0.\n",
      "  1.  0.  0.  1.  0.  1.  0.  0.  1.  1.  1.  1.  1.  1.  1.  1.  0.  0.\n",
      "  1.  0.  1.  0.  0.  1.  1.  1.  0.  0.  1.  0.  0.  1.  1.  0.  1.  1.\n",
      "  0.  0.  1.  0.  0.  1.  1.  0.  0.  0.  0.  0.  1.  0.  1.  1.  0.  0.\n",
      "  0.  1.  1.  1.  0.  0.  0.  0.  0.  1.  0.  1.  0.  1.  1.  1.  0.  1.\n",
      "  0.  1.  0.  1.  1.  1.  0.  1.  1.  0.  0.  0.  1.  0.  1.  1.  0.  0.\n",
      "  1.  1.  0.  0.  0.  1.  1.  0.  0.  0.  1.  1.  1.  1.  0.  1.  1.  1.\n",
      "  1.  1.  1.  0.  1.  1.  1.  1.  0.  0.  1.  0.  1.  1.  1.  0.  1.  0.\n",
      "  0.  1.  0.  1.  0.  0.  0.  1.  1.  0.  0.  1.  0.  1.  1.  0.  0.  0.\n",
      "  1.  0.  0.  0.  0.  1.  0.  0.  0.  0.  0.  1.  1.  1.  1.  0.  0.  1.\n",
      "  0.  1.  1.  1.  0.  1.]\n"
     ]
    }
   ],
   "source": [
    "from sklearn.tree import DecisionTreeClassifier\n",
    "np.random.seed(123)\n",
    "clf = DecisionTreeClassifier()\n",
    "clf.fit(X_train, y_train)\n",
    "y_proba = clf.predict_proba(X_test)[:,1]\n",
    "y_pred = y_proba>0.5\n",
    "print(y_proba)"
   ]
  },
  {
   "cell_type": "code",
   "execution_count": 63,
   "metadata": {},
   "outputs": [
    {
     "data": {
      "text/plain": [
       "0.93342667600093354"
      ]
     },
     "execution_count": 63,
     "metadata": {},
     "output_type": "execute_result"
    }
   ],
   "source": [
    "from sklearn.metrics import roc_auc_score\n",
    "roc_auc_score(y_test, y_proba)"
   ]
  },
  {
   "cell_type": "code",
   "execution_count": 64,
   "metadata": {},
   "outputs": [
    {
     "data": {
      "text/plain": [
       "0.93333333333333335"
      ]
     },
     "execution_count": 64,
     "metadata": {},
     "output_type": "execute_result"
    }
   ],
   "source": [
    "from sklearn.metrics import accuracy_score\n",
    "accuracy_score(y_test, y_pred)"
   ]
  },
  {
   "cell_type": "markdown",
   "metadata": {},
   "source": [
    "### 2.1 Бэггинг классификаторов"
   ]
  },
  {
   "cell_type": "code",
   "execution_count": 65,
   "metadata": {
    "collapsed": true
   },
   "outputs": [],
   "source": [
    "from sklearn.tree import DecisionTreeClassifier\n",
    "clf = DecisionTreeClassifier()\n",
    "clf.fit(X_train, y_train)\n",
    "y_proba = clf.predict_proba(X_test)[:,1]\n",
    "for i in range(99):\n",
    "    clf = DecisionTreeClassifier()\n",
    "    clf.fit(X_train, y_train)\n",
    "    y_proba += clf.predict_proba(X_test)[:,1]\n",
    "y_proba = y_proba/100\n",
    "y_pred = y_proba>0.5"
   ]
  },
  {
   "cell_type": "code",
   "execution_count": 66,
   "metadata": {},
   "outputs": [
    {
     "data": {
      "text/plain": [
       "0.95442877621095445"
      ]
     },
     "execution_count": 66,
     "metadata": {},
     "output_type": "execute_result"
    }
   ],
   "source": [
    "from sklearn.metrics import roc_auc_score\n",
    "roc_auc_score(y_test, y_proba)"
   ]
  },
  {
   "cell_type": "code",
   "execution_count": 67,
   "metadata": {},
   "outputs": [
    {
     "data": {
      "text/plain": [
       "0.93999999999999995"
      ]
     },
     "execution_count": 67,
     "metadata": {},
     "output_type": "execute_result"
    }
   ],
   "source": [
    "from sklearn.metrics import accuracy_score\n",
    "accuracy_score(y_test, y_pred)"
   ]
  },
  {
   "cell_type": "markdown",
   "metadata": {},
   "source": [
    "Качество улучшилось как и по roc-auc, так и по accuracy. Это связано с тем, что среднее значение предсказанных вероятностей (большее качество алгоритмов) улучшает качество"
   ]
  },
  {
   "cell_type": "markdown",
   "metadata": {},
   "source": [
    "### 2.2 Сэмплирование обучающей выборки"
   ]
  },
  {
   "cell_type": "code",
   "execution_count": 85,
   "metadata": {
    "collapsed": true
   },
   "outputs": [],
   "source": [
    "from sklearn.tree import DecisionTreeClassifier\n",
    "np.random.seed(123)  # для одинакового бутстрапа в каждом запуске\n",
    "sample = np.random.randint(0, 1399, 1400)\n",
    "clf = DecisionTreeClassifier()\n",
    "clf.fit(np.array(X_train)[sample], np.array(y_train)[sample])\n",
    "y_proba = clf.predict_proba(X_test)[:,1]\n",
    "for i in range(99):\n",
    "    sample = np.random.randint(0, 1399, 1400)\n",
    "    clf = DecisionTreeClassifier()\n",
    "    clf.fit(np.array(X_train)[sample], np.array(y_train)[sample])\n",
    "    y_proba += clf.predict_proba(X_test)[:,1]\n",
    "y_proba = y_proba/100\n",
    "y_pred = y_proba>0.5"
   ]
  },
  {
   "cell_type": "code",
   "execution_count": 86,
   "metadata": {},
   "outputs": [
    {
     "data": {
      "text/plain": [
       "0.99431054216532777"
      ]
     },
     "execution_count": 86,
     "metadata": {},
     "output_type": "execute_result"
    }
   ],
   "source": [
    "from sklearn.metrics import roc_auc_score\n",
    "roc_auc_score(y_test, y_proba)"
   ]
  },
  {
   "cell_type": "code",
   "execution_count": 87,
   "metadata": {},
   "outputs": [
    {
     "data": {
      "text/plain": [
       "0.96166666666666667"
      ]
     },
     "execution_count": 87,
     "metadata": {},
     "output_type": "execute_result"
    }
   ],
   "source": [
    "from sklearn.metrics import accuracy_score\n",
    "accuracy_score(y_test, y_pred)"
   ]
  },
  {
   "cell_type": "markdown",
   "metadata": {},
   "source": [
    "Качество значительно улучшилось по обеим метрикам, так как используя бэггинг, мы получаем меньшую коррелированность деревьев"
   ]
  },
  {
   "cell_type": "markdown",
   "metadata": {},
   "source": [
    "### 2.3 Выбор случайного подмножества признаков"
   ]
  },
  {
   "cell_type": "code",
   "execution_count": 71,
   "metadata": {
    "collapsed": true
   },
   "outputs": [],
   "source": [
    "\n",
    "from sklearn.tree import DecisionTreeClassifier\n",
    "max_features = int(np.round(np.sqrt(X_train.shape[1])))\n",
    "clf = DecisionTreeClassifier(max_features=max_features)\n",
    "clf.fit(X_train, y_train)\n",
    "y_proba = clf.predict_proba(X_test)[:,1]\n",
    "for i in range(99):\n",
    "    clf = DecisionTreeClassifier(max_features=max_features)\n",
    "    clf.fit(X_train, y_train)\n",
    "    y_proba += clf.predict_proba(X_test)[:,1]\n",
    "y_proba = y_proba/100\n",
    "y_pred = y_proba>0.5"
   ]
  },
  {
   "cell_type": "code",
   "execution_count": 72,
   "metadata": {},
   "outputs": [
    {
     "data": {
      "text/plain": [
       "0.99403273660699398"
      ]
     },
     "execution_count": 72,
     "metadata": {},
     "output_type": "execute_result"
    }
   ],
   "source": [
    "from sklearn.metrics import roc_auc_score\n",
    "roc_auc_score(y_test, y_proba)"
   ]
  },
  {
   "cell_type": "code",
   "execution_count": 73,
   "metadata": {},
   "outputs": [
    {
     "data": {
      "text/plain": [
       "0.94999999999999996"
      ]
     },
     "execution_count": 73,
     "metadata": {},
     "output_type": "execute_result"
    }
   ],
   "source": [
    "from sklearn.metrics import accuracy_score\n",
    "accuracy_score(y_test, y_pred)"
   ]
  },
  {
   "cell_type": "markdown",
   "metadata": {},
   "source": [
    "Качество сравнимо со сэмплированием, то есть так же лучше по обеим метрикам по сравнению с бэггингом."
   ]
  },
  {
   "cell_type": "markdown",
   "metadata": {},
   "source": [
    "### 2.4 = 2.2 + 2.3"
   ]
  },
  {
   "cell_type": "code",
   "execution_count": 74,
   "metadata": {
    "collapsed": true
   },
   "outputs": [],
   "source": [
    "from sklearn.tree import DecisionTreeClassifier\n",
    "np.random.seed(123)\n",
    "max_features = int(np.round(np.sqrt(X_train.shape[1])))\n",
    "sample = np.random.randint(0, 1399, 1400)\n",
    "clf = DecisionTreeClassifier(max_features=max_features)\n",
    "clf.fit(np.array(X_train)[sample], np.array(y_train)[sample])\n",
    "y_proba = clf.predict_proba(X_test)[:,1]\n",
    "for i in range(99):\n",
    "    sample = np.random.randint(0, 1399, 1400)\n",
    "    clf = DecisionTreeClassifier(max_features=max_features)\n",
    "    clf.fit(np.array(X_train)[sample], np.array(y_train)[sample])\n",
    "    y_proba += clf.predict_proba(X_test)[:,1]\n",
    "y_proba = y_proba/100\n",
    "y_pred = y_proba>0.5"
   ]
  },
  {
   "cell_type": "code",
   "execution_count": 75,
   "metadata": {},
   "outputs": [
    {
     "data": {
      "text/plain": [
       "0.99401051216232739"
      ]
     },
     "execution_count": 75,
     "metadata": {},
     "output_type": "execute_result"
    }
   ],
   "source": [
    "from sklearn.metrics import roc_auc_score\n",
    "roc_auc_score(y_test, y_proba)"
   ]
  },
  {
   "cell_type": "code",
   "execution_count": 76,
   "metadata": {},
   "outputs": [
    {
     "data": {
      "text/plain": [
       "0.94666666666666666"
      ]
     },
     "execution_count": 76,
     "metadata": {},
     "output_type": "execute_result"
    }
   ],
   "source": [
    "from sklearn.metrics import accuracy_score\n",
    "accuracy_score(y_test, y_pred)"
   ]
  },
  {
   "cell_type": "markdown",
   "metadata": {},
   "source": [
    "Качество не улучшилось по сравнению с сэмплированием и выбором случайного множества признаков."
   ]
  },
  {
   "cell_type": "code",
   "execution_count": 78,
   "metadata": {},
   "outputs": [
    {
     "data": {
      "text/plain": [
       "RandomForestClassifier(bootstrap=True, class_weight=None, criterion='gini',\n",
       "            max_depth=None, max_features='auto', max_leaf_nodes=None,\n",
       "            min_impurity_split=1e-07, min_samples_leaf=1,\n",
       "            min_samples_split=2, min_weight_fraction_leaf=0.0,\n",
       "            n_estimators=100, n_jobs=1, oob_score=False, random_state=None,\n",
       "            verbose=0, warm_start=False)"
      ]
     },
     "execution_count": 78,
     "metadata": {},
     "output_type": "execute_result"
    }
   ],
   "source": [
    "from sklearn.ensemble import RandomForestClassifier\n",
    "clf = RandomForestClassifier(n_estimators=100)\n",
    "clf.fit(X_train, y_train)"
   ]
  },
  {
   "cell_type": "code",
   "execution_count": 79,
   "metadata": {},
   "outputs": [
    {
     "data": {
      "text/plain": [
       "0.99401051216232739"
      ]
     },
     "execution_count": 79,
     "metadata": {},
     "output_type": "execute_result"
    }
   ],
   "source": [
    "from sklearn.metrics import roc_auc_score\n",
    "roc_auc_score(y_test, y_proba)"
   ]
  },
  {
   "cell_type": "code",
   "execution_count": 80,
   "metadata": {},
   "outputs": [
    {
     "data": {
      "text/plain": [
       "0.94666666666666666"
      ]
     },
     "execution_count": 80,
     "metadata": {},
     "output_type": "execute_result"
    }
   ],
   "source": [
    "from sklearn.metrics import accuracy_score\n",
    "accuracy_score(y_test, y_pred)"
   ]
  },
  {
   "cell_type": "markdown",
   "metadata": {},
   "source": [
    "Значение метрик в точности равно с объединением бутстрапа и случайного выбора множества признаков, так как тот же самый алгоритм"
   ]
  },
  {
   "cell_type": "markdown",
   "metadata": {},
   "source": [
    "### 2.5 Влияние количества используемых деревьев в случайном лесе"
   ]
  },
  {
   "cell_type": "code",
   "execution_count": 89,
   "metadata": {},
   "outputs": [
    {
     "data": {
      "image/png": "[encoded data removed]",
      "text/plain": [
       "<matplotlib.figure.Figure at 0xa2ccf87898>"
      ]
     },
     "metadata": {},
     "output_type": "display_data"
    }
   ],
   "source": [
    "from sklearn.ensemble import RandomForestClassifier\n",
    "roc = []\n",
    "n_est = []\n",
    "for n in range(10,1000,10):\n",
    "    clf = RandomForestClassifier(n_estimators = n)\n",
    "    clf.fit(X_train, y_train)\n",
    "    y_proba = clf.predict_proba(X_test)[:,1]\n",
    "    roc.append(roc_auc_score(y_test, y_proba))\n",
    "    n_est.append(n)\n",
    "plt.xlabel('n')\n",
    "plt.ylabel('ROC-AUC')\n",
    "plt.plot(list(range(10, 1000, 10)), roc)\n",
    "plt.show()"
   ]
  },
  {
   "cell_type": "markdown",
   "metadata": {},
   "source": [
    "Начиная примерно с 200 дереьвев, качество алгоритма почти не улучшается"
   ]
  },
  {
   "cell_type": "markdown",
   "metadata": {},
   "source": [
    "### 2.6 Важность признаков"
   ]
  },
  {
   "cell_type": "code",
   "execution_count": 307,
   "metadata": {},
   "outputs": [
    {
     "data": {
      "text/plain": [
       "<matplotlib.axes._subplots.AxesSubplot at 0xa237cb9630>"
      ]
     },
     "execution_count": 307,
     "metadata": {},
     "output_type": "execute_result"
    },
    {
     "data": {
      "image/png": "[encoded data removed]",
      "text/plain": [
       "<matplotlib.figure.Figure at 0xa23538b1d0>"
      ]
     },
     "metadata": {},
     "output_type": "display_data"
    }
   ],
   "source": [
    "import seaborn\n",
    "plt.figure(figsize=(18,3))\n",
    "seaborn.barplot( train.columns,clf.feature_importances_)"
   ]
  }
 ],
 "metadata": {
  "kernelspec": {
   "display_name": "Python 3",
   "language": "python",
   "name": "python3"
  },
  "language_info": {
   "codemirror_mode": {
    "name": "ipython",
    "version": 3
   },
   "file_extension": ".py",
   "mimetype": "text/x-python",
   "name": "python",
   "nbconvert_exporter": "python",
   "pygments_lexer": "ipython3",
   "version": "3.8.3"
  }
 },
 "nbformat": 4,
 "nbformat_minor": 2
}
